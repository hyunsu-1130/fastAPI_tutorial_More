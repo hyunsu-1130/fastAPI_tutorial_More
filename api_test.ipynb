{
 "cells": [
  {
   "cell_type": "code",
   "execution_count": 1,
   "metadata": {},
   "outputs": [],
   "source": [
    "import requests"
   ]
  },
  {
   "cell_type": "code",
   "execution_count": 2,
   "metadata": {},
   "outputs": [
    {
     "name": "stdout",
     "output_type": "stream",
     "text": [
      "이미지가 성공적으로 처리되어 'response_image.png'로 저장되었습니다.\n"
     ]
    }
   ],
   "source": [
    "url = 'http://127.0.0.1:8000/upload/'  # FastAPI 서버 URL 및 엔드포인트\n",
    "# files = {'file': open('dog.jpg', 'rb')}  # 파일 열기\n",
    "files = {'file': ('dog.jpg', open('dog.jpg', 'rb'), 'image/jpeg')}  # Content-Type 명시\n",
    "\n",
    "response = requests.post(url, files=files)  # POST 요청 보내기\n",
    "\n",
    "if response.status_code == 200:\n",
    "    with open('response_image.png', 'wb') as f:\n",
    "        f.write(response.content)  # 받은 이미지 저장\n",
    "    print(\"이미지가 성공적으로 처리되어 'response_image.png'로 저장되었습니다.\")\n",
    "else:\n",
    "    print(\"에러:\", response.status_code, response.text)"
   ]
  },
  {
   "cell_type": "code",
   "execution_count": 3,
   "metadata": {},
   "outputs": [
    {
     "name": "stdout",
     "output_type": "stream",
     "text": [
      "이미지가 성공적으로 처리되어 'rotate_image.png'로 저장되었습니다.\n"
     ]
    }
   ],
   "source": [
    "# 1. 이미지 회전 실행\n",
    "url = 'http://127.0.0.1:8000/rotate/'  # FastAPI 서버 URL 및 엔드포인트\n",
    "# files = {'file': open('dog.jpg', 'rb')}  # 파일 열기\n",
    "files = {'file': ('dog.jpg', open('dog.jpg', 'rb'), 'image/jpeg')}  # Content-Type 명시\n",
    "\n",
    "response = requests.post(url, files=files)  # POST 요청 보내기\n",
    "\n",
    "if response.status_code == 200:\n",
    "    with open('rotate_image.png', 'wb') as f:\n",
    "        f.write(response.content)  # 받은 이미지 저장\n",
    "    print(\"이미지가 성공적으로 처리되어 'rotate_image.png'로 저장되었습니다.\")\n",
    "else:\n",
    "    print(\"에러:\", response.status_code, response.text)"
   ]
  },
  {
   "cell_type": "code",
   "execution_count": 6,
   "metadata": {},
   "outputs": [
    {
     "name": "stdout",
     "output_type": "stream",
     "text": [
      "이미지가 성공적으로 처리되어 'bright_image.png'로 저장되었습니다.\n"
     ]
    }
   ],
   "source": [
    "# 2. 이미지 밝기 실행\n",
    "url = 'http://127.0.0.1:8000/bright/'  # FastAPI 서버 URL 및 엔드포인트\n",
    "# files = {'file': open('dog.jpg', 'rb')}  # 파일 열기\n",
    "files = {'file': ('dog.jpg', open('dog.jpg', 'rb'), 'image/jpeg')}  # Content-Type 명시\n",
    "\n",
    "response = requests.post(url, files=files)  # POST 요청 보내기\n",
    "\n",
    "if response.status_code == 200:\n",
    "    with open('bright_image.png', 'wb') as f:\n",
    "        f.write(response.content)  # 받은 이미지 저장\n",
    "    print(\"이미지가 성공적으로 처리되어 'bright_image.png'로 저장되었습니다.\")\n",
    "else:\n",
    "    print(\"에러:\", response.status_code, response.text)"
   ]
  },
  {
   "cell_type": "code",
   "execution_count": 7,
   "metadata": {},
   "outputs": [
    {
     "name": "stdout",
     "output_type": "stream",
     "text": [
      "이미지가 성공적으로 처리되어 'bw_image.png'로 저장되었습니다.\n"
     ]
    }
   ],
   "source": [
    "# 3. 이미지 흑백필터 실행\n",
    "url = 'http://127.0.0.1:8000/black_white/'  # FastAPI 서버 URL 및 엔드포인트\n",
    "# files = {'file': open('dog.jpg', 'rb')}  # 파일 열기\n",
    "files = {'file': ('dog.jpg', open('dog.jpg', 'rb'), 'image/jpeg')}  # Content-Type 명시\n",
    "\n",
    "response = requests.post(url, files=files)  # POST 요청 보내기\n",
    "\n",
    "if response.status_code == 200:\n",
    "    with open('bw_image.png', 'wb') as f:\n",
    "        f.write(response.content)  # 받은 이미지 저장\n",
    "    print(\"이미지가 성공적으로 처리되어 'bw_image.png'로 저장되었습니다.\")\n",
    "else:\n",
    "    print(\"에러:\", response.status_code, response.text)"
   ]
  }
 ],
 "metadata": {
  "kernelspec": {
   "display_name": "fast",
   "language": "python",
   "name": "python3"
  },
  "language_info": {
   "codemirror_mode": {
    "name": "ipython",
    "version": 3
   },
   "file_extension": ".py",
   "mimetype": "text/x-python",
   "name": "python",
   "nbconvert_exporter": "python",
   "pygments_lexer": "ipython3",
   "version": "3.10.14"
  }
 },
 "nbformat": 4,
 "nbformat_minor": 2
}
